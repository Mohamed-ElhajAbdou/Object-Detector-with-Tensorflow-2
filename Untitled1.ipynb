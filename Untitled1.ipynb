{
 "cells": [
  {
   "cell_type": "code",
   "execution_count": 2,
   "metadata": {},
   "outputs": [
    {
     "ename": "NameError",
     "evalue": "name 'folder' is not defined",
     "output_type": "error",
     "traceback": [
      "\u001b[1;31m---------------------------------------------------------------------------\u001b[0m",
      "\u001b[1;31mNameError\u001b[0m                                 Traceback (most recent call last)",
      "\u001b[1;32m<ipython-input-2-f760d92ad223>\u001b[0m in \u001b[0;36m<module>\u001b[1;34m()\u001b[0m\n\u001b[0;32m      3\u001b[0m \u001b[1;32mimport\u001b[0m \u001b[0mcv2\u001b[0m\u001b[1;33m\u001b[0m\u001b[0m\n\u001b[0;32m      4\u001b[0m \u001b[1;32mfrom\u001b[0m \u001b[0mmatplotlib\u001b[0m\u001b[1;33m.\u001b[0m\u001b[0mwidgets\u001b[0m \u001b[1;32mimport\u001b[0m \u001b[0mRectangleSelector\u001b[0m\u001b[1;33m\u001b[0m\u001b[0m\n\u001b[1;32m----> 5\u001b[1;33m \u001b[1;32mfrom\u001b[0m \u001b[0mgenerate_xml\u001b[0m \u001b[1;32mimport\u001b[0m \u001b[0mwrite_xml\u001b[0m\u001b[1;33m\u001b[0m\u001b[0m\n\u001b[0m\u001b[0;32m      6\u001b[0m \u001b[1;32mfrom\u001b[0m \u001b[0mlxml\u001b[0m \u001b[1;32mimport\u001b[0m \u001b[0metree\u001b[0m\u001b[1;33m\u001b[0m\u001b[0m\n\u001b[0;32m      7\u001b[0m \u001b[1;32mimport\u001b[0m \u001b[0mxml\u001b[0m\u001b[1;33m.\u001b[0m\u001b[0metree\u001b[0m\u001b[1;33m.\u001b[0m\u001b[0mcElementTree\u001b[0m \u001b[1;32mas\u001b[0m \u001b[0mET\u001b[0m\u001b[1;33m\u001b[0m\u001b[0m\n",
      "\u001b[1;32m~\\Anaconda3\\lib\\generate_xml.py\u001b[0m in \u001b[0;36m<module>\u001b[1;34m()\u001b[0m\n\u001b[0;32m     51\u001b[0m     \u001b[0mbr\u001b[0m \u001b[1;33m=\u001b[0m \u001b[1;33m[\u001b[0m\u001b[1;33m(\u001b[0m\u001b[1;36m100\u001b[0m\u001b[1;33m,\u001b[0m \u001b[1;36m100\u001b[0m\u001b[1;33m)\u001b[0m\u001b[1;33m]\u001b[0m\u001b[1;33m\u001b[0m\u001b[0m\n\u001b[0;32m     52\u001b[0m     \u001b[0msavedir\u001b[0m \u001b[1;33m=\u001b[0m \u001b[1;34m'annotations'\u001b[0m\u001b[1;33m\u001b[0m\u001b[0m\n\u001b[1;32m---> 53\u001b[1;33m \u001b[0mwrite_xml\u001b[0m\u001b[1;33m(\u001b[0m\u001b[0mfolder\u001b[0m\u001b[1;33m,\u001b[0m \u001b[0mimg\u001b[0m\u001b[1;33m,\u001b[0m \u001b[0mobjects\u001b[0m\u001b[1;33m,\u001b[0m \u001b[0mtl\u001b[0m\u001b[1;33m,\u001b[0m \u001b[0mbr\u001b[0m\u001b[1;33m,\u001b[0m \u001b[0msavedir\u001b[0m\u001b[1;33m)\u001b[0m\u001b[1;33m\u001b[0m\u001b[0m\n\u001b[0m",
      "\u001b[1;31mNameError\u001b[0m: name 'folder' is not defined"
     ]
    }
   ],
   "source": [
    "import os\n",
    "import matplotlib.pyplot as plt\n",
    "import cv2\n",
    "from matplotlib.widgets import RectangleSelector\n",
    "from generate_xml import write_xml\n",
    "from lxml import etree\n",
    "import xml.etree.cElementTree as ET\n",
    "\n",
    "\n",
    "#%matplotlib qt\n",
    "# %matplotlib inline\n",
    "# global constants\n",
    "img = None\n",
    "tl_list = []\n",
    "br_list = []\n",
    "object_list = []\n",
    "\n",
    "# constants\n",
    "#image_folder='New folder'\n",
    "image_folder='IMAGES'\n",
    "savedir='annotations'\n",
    "obj='mobile phones'\n",
    "\n",
    "def line_select_callback(clk, rls):\n",
    "    global tl_list\n",
    "    global br_list\n",
    "    global object_list\n",
    "    tl_list.append((int(clk.xdata), int(clk.ydata)))\n",
    "    br_list.append((int(rls.xdata), int(rls.ydata)))\n",
    "    object_list.append(obj)\n",
    "\n",
    "\n",
    "def onkeypress(event):\n",
    "    global object_list\n",
    "    global tl_list\n",
    "    global br_list\n",
    "    global img\n",
    "    if event.key == 'q':\n",
    "        print(tl_list, br_list)\n",
    "        write_xml(image_folder, img, object_list, tl_list, br_list, savedir)\n",
    "        tl_list = []\n",
    "        br_list = []\n",
    "        object_list = []\n",
    "        #img = None\n",
    "        plt.close()\n",
    "\n",
    "\n",
    "def toggle_selector(event):\n",
    "    toggle_selector.RS.set_active(True)\n",
    "\n",
    "\n",
    "if __name__ == '__main__':\n",
    "    for n, image_file in enumerate(os.scandir(image_folder)):\n",
    "        img = image_file\n",
    "        fig, ax = plt.subplots(1)\n",
    "        mngr = plt.get_current_fig_manager()\n",
    "        #mngr.window.setGeometry(250, 120, 1280, 1024)\n",
    "        image = cv2.imread(image_file.path)\n",
    "        image = cv2.cvtColor(image, cv2.COLOR_BGR2RGB)\n",
    "\n",
    "        ax.imshow(image)\n",
    "\n",
    "        toggle_selector.RS = RectangleSelector(\n",
    "            ax, line_select_callback,\n",
    "            drawtype='box', useblit=True,\n",
    "            button=[1], minspanx=5, minspany=5,\n",
    "            spancoords='pixels', interactive=True\n",
    "        )\n",
    "#         plt.connect('button_press_event',line_select_callback)\n",
    "        bbox = plt.connect('key_press_event', toggle_selector)\n",
    "        key = plt.connect('key_press_event', onkeypress)\n",
    "        plt.show()\n"
   ]
  },
  {
   "cell_type": "code",
   "execution_count": null,
   "metadata": {},
   "outputs": [],
   "source": []
  }
 ],
 "metadata": {
  "kernelspec": {
   "display_name": "Python 3",
   "language": "python",
   "name": "python3"
  },
  "language_info": {
   "codemirror_mode": {
    "name": "ipython",
    "version": 3
   },
   "file_extension": ".py",
   "mimetype": "text/x-python",
   "name": "python",
   "nbconvert_exporter": "python",
   "pygments_lexer": "ipython3",
   "version": "3.6.4"
  }
 },
 "nbformat": 4,
 "nbformat_minor": 2
}
